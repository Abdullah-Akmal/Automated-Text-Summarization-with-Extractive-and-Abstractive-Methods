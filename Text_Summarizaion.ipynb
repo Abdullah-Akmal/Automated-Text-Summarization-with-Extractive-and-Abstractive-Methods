{
  "cells": [
    {
      "cell_type": "code",
      "execution_count": null,
      "metadata": {
        "colab": {
          "base_uri": "https://localhost:8080/"
        },
        "id": "-4kMOTpP8c09",
        "outputId": "b830cd49-192b-4ce8-9a13-2274d65a33f1"
      },
      "outputs": [
        {
          "name": "stdout",
          "output_type": "stream",
          "text": [
            "Requirement already satisfied: summa in /usr/local/lib/python3.11/dist-packages (1.2.0)\n",
            "Requirement already satisfied: transformers in /usr/local/lib/python3.11/dist-packages (4.52.2)\n",
            "Requirement already satisfied: datasets in /usr/local/lib/python3.11/dist-packages (2.14.4)\n",
            "Requirement already satisfied: scipy>=0.19 in /usr/local/lib/python3.11/dist-packages (from summa) (1.13.1)\n",
            "Requirement already satisfied: filelock in /usr/local/lib/python3.11/dist-packages (from transformers) (3.18.0)\n",
            "Requirement already satisfied: huggingface-hub<1.0,>=0.30.0 in /usr/local/lib/python3.11/dist-packages (from transformers) (0.31.4)\n",
            "Requirement already satisfied: numpy>=1.17 in /usr/local/lib/python3.11/dist-packages (from transformers) (1.26.4)\n",
            "Requirement already satisfied: packaging>=20.0 in /usr/local/lib/python3.11/dist-packages (from transformers) (24.2)\n",
            "Requirement already satisfied: pyyaml>=5.1 in /usr/local/lib/python3.11/dist-packages (from transformers) (6.0.2)\n",
            "Requirement already satisfied: regex!=2019.12.17 in /usr/local/lib/python3.11/dist-packages (from transformers) (2024.11.6)\n",
            "Requirement already satisfied: requests in /usr/local/lib/python3.11/dist-packages (from transformers) (2.32.3)\n",
            "Requirement already satisfied: tokenizers<0.22,>=0.21 in /usr/local/lib/python3.11/dist-packages (from transformers) (0.21.1)\n",
            "Requirement already satisfied: safetensors>=0.4.3 in /usr/local/lib/python3.11/dist-packages (from transformers) (0.5.3)\n",
            "Requirement already satisfied: tqdm>=4.27 in /usr/local/lib/python3.11/dist-packages (from transformers) (4.67.1)\n",
            "Requirement already satisfied: pyarrow>=8.0.0 in /usr/local/lib/python3.11/dist-packages (from datasets) (18.1.0)\n",
            "Requirement already satisfied: dill<0.3.8,>=0.3.0 in /usr/local/lib/python3.11/dist-packages (from datasets) (0.3.7)\n",
            "Requirement already satisfied: pandas in /usr/local/lib/python3.11/dist-packages (from datasets) (2.2.2)\n",
            "Requirement already satisfied: xxhash in /usr/local/lib/python3.11/dist-packages (from datasets) (3.5.0)\n",
            "Requirement already satisfied: multiprocess in /usr/local/lib/python3.11/dist-packages (from datasets) (0.70.15)\n",
            "Requirement already satisfied: fsspec>=2021.11.1 in /usr/local/lib/python3.11/dist-packages (from fsspec[http]>=2021.11.1->datasets) (2025.3.2)\n",
            "Requirement already satisfied: aiohttp in /usr/local/lib/python3.11/dist-packages (from datasets) (3.11.15)\n",
            "Requirement already satisfied: aiohappyeyeballs>=2.3.0 in /usr/local/lib/python3.11/dist-packages (from aiohttp->datasets) (2.6.1)\n",
            "Requirement already satisfied: aiosignal>=1.1.2 in /usr/local/lib/python3.11/dist-packages (from aiohttp->datasets) (1.3.2)\n",
            "Requirement already satisfied: attrs>=17.3.0 in /usr/local/lib/python3.11/dist-packages (from aiohttp->datasets) (25.3.0)\n",
            "Requirement already satisfied: frozenlist>=1.1.1 in /usr/local/lib/python3.11/dist-packages (from aiohttp->datasets) (1.6.0)\n",
            "Requirement already satisfied: multidict<7.0,>=4.5 in /usr/local/lib/python3.11/dist-packages (from aiohttp->datasets) (6.4.4)\n",
            "Requirement already satisfied: propcache>=0.2.0 in /usr/local/lib/python3.11/dist-packages (from aiohttp->datasets) (0.3.1)\n",
            "Requirement already satisfied: yarl<2.0,>=1.17.0 in /usr/local/lib/python3.11/dist-packages (from aiohttp->datasets) (1.20.0)\n",
            "Requirement already satisfied: typing-extensions>=3.7.4.3 in /usr/local/lib/python3.11/dist-packages (from huggingface-hub<1.0,>=0.30.0->transformers) (4.13.2)\n",
            "Requirement already satisfied: charset-normalizer<4,>=2 in /usr/local/lib/python3.11/dist-packages (from requests->transformers) (3.4.2)\n",
            "Requirement already satisfied: idna<4,>=2.5 in /usr/local/lib/python3.11/dist-packages (from requests->transformers) (3.10)\n",
            "Requirement already satisfied: urllib3<3,>=1.21.1 in /usr/local/lib/python3.11/dist-packages (from requests->transformers) (2.4.0)\n",
            "Requirement already satisfied: certifi>=2017.4.17 in /usr/local/lib/python3.11/dist-packages (from requests->transformers) (2025.4.26)\n",
            "Requirement already satisfied: python-dateutil>=2.8.2 in /usr/local/lib/python3.11/dist-packages (from pandas->datasets) (2.9.0.post0)\n",
            "Requirement already satisfied: pytz>=2020.1 in /usr/local/lib/python3.11/dist-packages (from pandas->datasets) (2025.2)\n",
            "Requirement already satisfied: tzdata>=2022.7 in /usr/local/lib/python3.11/dist-packages (from pandas->datasets) (2025.2)\n",
            "Requirement already satisfied: six>=1.5 in /usr/local/lib/python3.11/dist-packages (from python-dateutil>=2.8.2->pandas->datasets) (1.17.0)\n",
            "Requirement already satisfied: rouge_score in /usr/local/lib/python3.11/dist-packages (0.1.2)\n",
            "Requirement already satisfied: absl-py in /usr/local/lib/python3.11/dist-packages (from rouge_score) (1.4.0)\n",
            "Requirement already satisfied: nltk in /usr/local/lib/python3.11/dist-packages (from rouge_score) (3.9.1)\n",
            "Requirement already satisfied: numpy in /usr/local/lib/python3.11/dist-packages (from rouge_score) (1.26.4)\n",
            "Requirement already satisfied: six>=1.14.0 in /usr/local/lib/python3.11/dist-packages (from rouge_score) (1.17.0)\n",
            "Requirement already satisfied: click in /usr/local/lib/python3.11/dist-packages (from nltk->rouge_score) (8.2.1)\n",
            "Requirement already satisfied: joblib in /usr/local/lib/python3.11/dist-packages (from nltk->rouge_score) (1.5.0)\n",
            "Requirement already satisfied: regex>=2021.8.3 in /usr/local/lib/python3.11/dist-packages (from nltk->rouge_score) (2024.11.6)\n",
            "Requirement already satisfied: tqdm in /usr/local/lib/python3.11/dist-packages (from nltk->rouge_score) (4.67.1)\n"
          ]
        }
      ],
      "source": [
        "# Install clean, compatible packages\n",
        "!pip install summa transformers datasets\n",
        "!pip install rouge_score"
      ]
    },
    {
      "cell_type": "code",
      "execution_count": null,
      "metadata": {
        "id": "1ddmQkU08eIQ"
      },
      "outputs": [],
      "source": [
        "# Import libraries\n",
        "from summa.summarizer import summarize\n",
        "from transformers import pipeline\n",
        "from datasets import load_metric"
      ]
    },
    {
      "cell_type": "code",
      "execution_count": null,
      "metadata": {
        "id": "26at-CU28jnz"
      },
      "outputs": [],
      "source": [
        "# Sample article\n",
        "text = \"\"\"\n",
        "The COVID-19 pandemic has significantly changed how we live and work. Many companies have shifted to remote working models,\n",
        "which has led to a reevaluation of work-life balance and employee productivity. While some employees thrive in remote settings,\n",
        "others struggle with the isolation and lack of direct supervision. As a result, mental health and work engagement have become\n",
        "important discussion points. Furthermore, industries such as tourism and retail have been heavily impacted, forcing governments\n",
        "to issue stimulus packages to keep economies afloat. On the other hand, the tech industry has seen a boom due to the increased\n",
        "reliance on digital services.\"\"\""
      ]
    },
    {
      "cell_type": "code",
      "execution_count": 15,
      "metadata": {
        "id": "cyiPyzzz8kmc"
      },
      "outputs": [],
      "source": [
        "# Extractive summarization using summa\n",
        "def extractive_summary(text):\n",
        "    return summarize(text, ratio=0.3)"
      ]
    },
    {
      "cell_type": "code",
      "execution_count": null,
      "metadata": {
        "colab": {
          "base_uri": "https://localhost:8080/"
        },
        "id": "sFdooTMJ8mKT",
        "outputId": "7b41e976-e478-445d-f970-652d5abacf34"
      },
      "outputs": [
        {
          "name": "stderr",
          "output_type": "stream",
          "text": [
            "Device set to use cpu\n"
          ]
        }
      ],
      "source": [
        "# Abstractive summarization using BART\n",
        "abstractive_summarizer = pipeline(\"summarization\", model=\"facebook/bart-large-cnn\")\n",
        "def abstractive_summary(text):\n",
        "    return abstractive_summarizer(text, max_length=100, min_length=30, do_sample=False)[0]['summary_text']"
      ]
    },
    {
      "cell_type": "code",
      "execution_count": 19,
      "metadata": {
        "id": "Axl7nvGo8ni9"
      },
      "outputs": [],
      "source": [
        "# ROUGE evaluation\n",
        "def evaluate_summary(reference, generated):\n",
        "    # Load metric\n",
        "    rouge = load_metric(\"rouge\")\n",
        "\n",
        "    # Compute scores\n",
        "    result = rouge.compute(predictions=[generated], references=[reference], use_stemmer=True)\n",
        "\n",
        "    # Print nicely formatted output\n",
        "    print(\" ROUGE Evaluation Scores:\")\n",
        "    for rouge_type in ['rouge1', 'rouge2', 'rougeL', 'rougeLsum']:\n",
        "        score = result[rouge_type].mid\n",
        "        print(f\"{rouge_type.upper()}:\")\n",
        "        print(f\"  Precision: {score.precision:.2f}\")\n",
        "        print(f\"  Recall:    {score.recall:.2f}\")\n",
        "        print(f\"  F1 Score:  {score.fmeasure:.2f}\\n\")\n",
        "\n",
        "    return result"
      ]
    },
    {
      "cell_type": "code",
      "execution_count": null,
      "metadata": {
        "colab": {
          "base_uri": "https://localhost:8080/"
        },
        "id": "Fyonu84m5pqw",
        "outputId": "1b468669-2b63-4e5d-a89e-25a895f51d20"
      },
      "outputs": [
        {
          "name": "stdout",
          "output_type": "stream",
          "text": [
            "Extractive Summary:\n",
            " Many companies have shifted to remote working models, \n",
            "which has led to a reevaluation of work-life balance and employee productivity.\n",
            "Furthermore, industries such as tourism and retail have been heavily impacted, forcing governments \n",
            "\n",
            "Abstractive Summary:\n",
            " The rise of remote working has led to a change in the way we work. We are now more likely to work in remote locations. This means we are less likely to suffer from stress and anxiety.\n",
            "🔍 ROUGE Evaluation Scores:\n",
            "ROUGE1:\n",
            "  Precision: 0.27\n",
            "  Recall:    0.29\n",
            "  F1 Score:  0.28\n",
            "\n",
            "ROUGE2:\n",
            "  Precision: 0.11\n",
            "  Recall:    0.12\n",
            "  F1 Score:  0.12\n",
            "\n",
            "ROUGEL:\n",
            "  Precision: 0.22\n",
            "  Recall:    0.24\n",
            "  F1 Score:  0.23\n",
            "\n",
            "ROUGELSUM:\n",
            "  Precision: 0.22\n",
            "  Recall:    0.24\n",
            "  F1 Score:  0.23\n",
            "\n"
          ]
        }
      ],
      "source": [
        "# Run extractive and abstractive summary\n",
        "extractive = extractive_summary(text)\n",
        "print(\"Extractive Summary:\\n\", extractive)\n",
        "\n",
        "abstractive = abstractive_summary(text)\n",
        "print(\"\\nAbstractive Summary:\\n\", abstractive)\n",
        "\n",
        "#ROUGE Evalution from extractive and abstractive summary\n",
        "evaluation = evaluate_summary(extractive, abstractive)"
      ]
    }
  ],
  "metadata": {
    "colab": {
      "provenance": []
    },
    "kernelspec": {
      "display_name": "Python 3",
      "name": "python3"
    },
    "language_info": {
      "name": "python"
    }
  },
  "nbformat": 4,
  "nbformat_minor": 0
}
